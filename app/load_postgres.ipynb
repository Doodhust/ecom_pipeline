{
 "cells": [
  {
   "cell_type": "code",
   "execution_count": 25,
   "metadata": {},
   "outputs": [],
   "source": [
    "import psycopg2\n",
    "from psycopg2 import sql\n",
    "import pandas as pd\n",
    "from psycopg2.extras import execute_values\n"
   ]
  },
  {
   "cell_type": "code",
   "execution_count": null,
   "metadata": {},
   "outputs": [],
   "source": [
    "df = pd.read_csv('sales_data.csv')\n",
    "\n",
    "conn = psycopg2.connect(\n",
    "    dbname='test',\n",
    "    user='user',\n",
    "    password='password',\n",
    "    host='localhost',\n",
    "    port=5432\n",
    ")\n",
    "cursor = conn.cursor()\n",
    "\n",
    "try:\n",
    "    cursor.execute(\"\"\"\n",
    "    CREATE TABLE IF NOT EXISTS sales (\n",
    "        sale_id SERIAL PRIMARY KEY,\n",
    "        customer_id INT,\n",
    "        product_id INT,\n",
    "        quantity INT,\n",
    "        sale_date TIMESTAMP,\n",
    "        region VARCHAR(50)\n",
    "    )\n",
    "    \"\"\")\n",
    "\n",
    "    tuples = [tuple(x) for x in df.to_numpy()]\n",
    "\n",
    "    cols = df.columns.tolist()\n",
    "    query = sql.SQL(\"INSERT INTO sales ({}) VALUES %s\").format(\n",
    "        sql.SQL(', ').join(map(sql.Identifier, cols))\n",
    "    )\n",
    "\n",
    "    execute_values(cursor, query, tuples) # вставка\n",
    "\n",
    "    conn.commit()\n",
    "\n",
    "except psycopg2.Error as e:\n",
    "    print(f\"Ошибка: {e}\")\n",
    "    conn.rollback()  # Откат транзакции\n",
    "\n",
    "finally:\n",
    "    cursor.close()\n",
    "    conn.close()\n"
   ]
  },
  {
   "cell_type": "code",
   "execution_count": null,
   "metadata": {},
   "outputs": [
    {
     "name": "stdout",
     "output_type": "stream",
     "text": [
      "(1, 45278, 9213, 1, datetime.datetime(2022, 1, 1, 0, 0), 'North')\n",
      "(2, 44811, 69, 5, datetime.datetime(2022, 1, 1, 1, 0), 'East')\n",
      "(3, 7154, 2862, 15, datetime.datetime(2022, 1, 1, 2, 0), 'South')\n",
      "(4, 34042, 5712, 18, datetime.datetime(2022, 1, 1, 3, 0), 'West')\n",
      "(5, 94784, 5179, 1, datetime.datetime(2022, 1, 1, 4, 0), 'East')\n",
      "(6, 74895, 8471, 2, datetime.datetime(2022, 1, 1, 5, 0), 'West')\n",
      "(7, 94773, 4901, 13, datetime.datetime(2022, 1, 1, 6, 0), 'North')\n",
      "(8, 57108, 4509, 8, datetime.datetime(2022, 1, 1, 7, 0), 'North')\n",
      "(9, 95417, 2671, 19, datetime.datetime(2022, 1, 1, 8, 0), 'North')\n",
      "(10, 60846, 6748, 11, datetime.datetime(2022, 1, 1, 9, 0), 'North')\n"
     ]
    }
   ],
   "source": [
    "conn = psycopg2.connect(\n",
    "    dbname='test',\n",
    "    user='user',\n",
    "    password='password',\n",
    "    host='localhost',\n",
    "    port=5432\n",
    ")\n",
    "cursor = conn.cursor()\n",
    "\n",
    "try:\n",
    "    cursor.execute(\"\"\"\n",
    "    SELECT * FROM sales\n",
    "    LIMIT 10\n",
    "    \"\"\")\n",
    "    rows = cursor.fetchall()\n",
    "    for row in rows:\n",
    "        print(row)\n",
    "\n",
    "    \n",
    "\n",
    "except psycopg2.Error as e:\n",
    "    print(f\"Ошибка: {e}\")"
   ]
  }
 ],
 "metadata": {
  "kernelspec": {
   "display_name": "base",
   "language": "python",
   "name": "python3"
  },
  "language_info": {
   "codemirror_mode": {
    "name": "ipython",
    "version": 3
   },
   "file_extension": ".py",
   "mimetype": "text/x-python",
   "name": "python",
   "nbconvert_exporter": "python",
   "pygments_lexer": "ipython3",
   "version": "3.11.7"
  }
 },
 "nbformat": 4,
 "nbformat_minor": 2
}
